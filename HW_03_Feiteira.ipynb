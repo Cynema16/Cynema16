{
 "cells": [
  {
   "cell_type": "markdown",
   "id": "6b718fb6",
   "metadata": {},
   "source": [
    "# COSC 130 - Homework 03\n",
    "\n",
    "### Cynthia Feiteira"
   ]
  },
  {
   "cell_type": "markdown",
   "id": "77dff7ca",
   "metadata": {},
   "source": [
    "## Problem 1: Calculating Exam Scores\n",
    "In this problem, you will use a loop to calculate scores for two students who have taking a multiple-choice exam with 25\n",
    "questions. Assume that the correct answers on the exam are as follows:\n",
    "\n",
    "Correct Answers: D, B, C, A, C, D, A, C, C, B, D, A, B, D, C, D, C, D, C, A, B, D, C, B, A\n",
    "\n",
    "The answers submitted by the two students are provided below.\n",
    "\n",
    "Student 1 Answers: A, B, C, A, B, D, A, A, C, B, D, A, D, C, C, B, C, D, B, A, D, D, C, C, A\n",
    "\n",
    "Student 2 Answers: D, A, C, A, B, D, A, C, C, B, D, A, B, D, A, D, C, D, C, A, B, C, C, B, A"
   ]
  },
  {
   "cell_type": "code",
   "execution_count": 1,
   "id": "51ee62a7",
   "metadata": {
    "scrolled": true
   },
   "outputs": [
    {
     "name": "stdout",
     "output_type": "stream",
     "text": [
      "Student 1 Grade: %64.0\n",
      "Student 2 Grade: %84.0\n"
     ]
    }
   ],
   "source": [
    "correct = ['D', 'B', 'C', 'A', 'C', 'D', 'A', 'C','C', 'B', 'D', 'A', 'B', 'D', 'C', 'D', 'C', 'D', 'C', 'A', 'B', 'D', 'C', 'B', 'A']\n",
    "answers1 = ['A', 'B', 'C', 'A', 'B', 'D', 'A', 'A', 'C', 'B', 'D', 'A', 'D', 'C', 'C', 'B', 'C', 'D', 'B', 'A', 'D', 'D', 'C', 'C', 'A']\n",
    "answers2 = [ 'D', 'A', 'C', 'A', 'B', 'D', 'A', 'C', 'C', 'B', 'D', 'A', 'B', 'D', 'A', 'D', 'C', 'D', 'C', 'A', 'B', 'C', 'C', 'B', 'A']\n",
    "temp = len(correct)\n",
    "\n",
    "count1 = 0\n",
    "count2 = 0\n",
    "i = 0\n",
    "for i in range(0, temp):\n",
    "    \n",
    "    if answers1[i] == correct[i]:\n",
    "        count1 +=  1\n",
    "    \n",
    "    if answers2[i] == correct[i]:\n",
    "        count2 += 1\n",
    "\n",
    "grade1 = count1/temp*100\n",
    "\n",
    "grade2 = count2/temp*100\n",
    "\n",
    "print(f'Student 1 Grade: %{grade1}\\nStudent 2 Grade: %{grade2}')\n",
    "    "
   ]
  },
  {
   "cell_type": "markdown",
   "id": "49d2a8fb",
   "metadata": {},
   "source": [
    "## Problem 2: Calculating Price of a Bulk Order\n",
    "\n",
    "WidgCo is a company that sells widgets. The company uses the bulk pricing policy described below.\n",
    "• If 100 or fewer widgets are ordered, then each widget costs $350.\n",
    "• If 200 or fewer widgets are ordered, the first 100 widgets each cost $350, and each additional widget costs $300.\n",
    "• If more than 200 widgets are ordered, then the first 100 each cost $350, the next 100 each cost $300, and each\n",
    "widget beyond the first 200 will cost $250.\n",
    "In this problem, you will determine the price for orders containing the following numbers of widgets:\n",
    "\n",
    "84, 100, 126, 150, 186, 200, 216, 248\n"
   ]
  },
  {
   "cell_type": "code",
   "execution_count": 2,
   "id": "a72f77ce",
   "metadata": {
    "scrolled": true
   },
   "outputs": [
    {
     "name": "stdout",
     "output_type": "stream",
     "text": [
      "The cost for an order of 84 widgets is $30200.\n",
      "The cost for an order of 100 widgets is $35000.\n",
      "The cost for an order of 126 widgets is $42800.\n",
      "The cost for an order of 150 widgets is $50000.\n",
      "The cost for an order of 186 widgets is $60800.\n",
      "The cost for an order of 200 widgets is $65000.\n",
      "The cost for an order of 216 widgets is $69000.\n",
      "The cost for an order of 248 widgets is $77000.\n"
     ]
    }
   ],
   "source": [
    "quantities = [84, 100, 126, 150, 186, 200, 216, 248]\n",
    "amount = len(quantities)\n",
    "price1 = 350\n",
    "price2 = 300\n",
    "price3 = 250\n",
    "for i in range(0, amount):\n",
    "    ord_tot = 0\n",
    "    ord_quan = quantities[i]\n",
    "    if(ord_quan > 200):\n",
    "        ord_tot = (ord_quan-200)*price3 + (100*price2) + (100*price1)\n",
    "    elif(ord_quan <= 200):\n",
    "        ord_tot = (ord_quan - 100)*300 + 100*350\n",
    "    else:\n",
    "        ord_tot = ord_quan*350\n",
    "    print(f'The cost for an order of {ord_quan} widgets is ${ord_tot}.')"
   ]
  },
  {
   "cell_type": "markdown",
   "id": "d5ca399b",
   "metadata": {},
   "source": [
    "## Problem 3: Creating an Amortization Schedule\n",
    "\n",
    "\n",
    "Suppose that 1000 dollars is borrowed at the beginning of the year. The loan is charged interest at an annual interest rate of 5 percent.\n",
    "The borrower will repay the loan by making payments of 150 dollars at the end of the year until the loan is repaid. Note that\n",
    "when the final payment is made, the balance will be less than 150 dollars, and so a partial payment will be made at that time."
   ]
  },
  {
   "cell_type": "code",
   "execution_count": 3,
   "id": "ec2f3abe",
   "metadata": {
    "scrolled": true
   },
   "outputs": [
    {
     "name": "stdout",
     "output_type": "stream",
     "text": [
      "The balance at the end of the year 1 is $900.0.\n",
      "The balance at the end of the year 2 is $795.0.\n",
      "The balance at the end of the year 3 is $684.75.\n",
      "The balance at the end of the year 4 is $568.99.\n",
      "The balance at the end of the year 5 is $447.44.\n",
      "The balance at the end of the year 6 is $319.81.\n",
      "The balance at the end of the year 7 is $185.8.\n",
      "The balance at the end of the year 8 is $45.09.\n",
      "The balance at the end of the year 9 is $0.\n"
     ]
    }
   ],
   "source": [
    "balance = 1000\n",
    "i = 0.05\n",
    "pmt = 150\n",
    "n = 0\n",
    "\n",
    "while balance > 0:\n",
    "    balance = round(balance*(1 + i)-pmt, 2)\n",
    "    n += 1\n",
    "    \n",
    "    if balance < 0:\n",
    "        final_pmt = balance+pmt\n",
    "        balance = 0\n",
    "    print(f'The balance at the end of the year {n} is ${round(balance, 2)}.')\n",
    "    \n",
    "       "
   ]
  },
  {
   "cell_type": "code",
   "execution_count": 4,
   "id": "769b815d",
   "metadata": {
    "scrolled": true
   },
   "outputs": [
    {
     "name": "stdout",
     "output_type": "stream",
     "text": [
      "The amount of the final payment will be $47.34.\n"
     ]
    }
   ],
   "source": [
    "print(f'The amount of the final payment will be ${final_pmt}.')"
   ]
  },
  {
   "cell_type": "markdown",
   "id": "e11018b2",
   "metadata": {},
   "source": [
    "## Problem 4: Hailstone Sequences\n",
    "\n",
    "In mathematics, a hailstone sequence is a sequence creates as follows:\n",
    "• Select a starting value for the sequence.\n",
    "• If a particular term in the sequence is equal to 𝑛, then the next term will be equal to 𝑛/2 if 𝑛 is even, and will be\n",
    "equal to 3𝑛 +1 if 𝑛 is odd.\n",
    "• The sequence continues until reaching a term that is equal to 1.\n",
    "For example, the hailstone sequence beginning with 12 is: 12, 6, 3, 10, 5, 16, 8, 4, 2, 1\n",
    "It is widely believed that any starting value will result in a sequence that eventually reaches 1, but this has not been proven\n",
    "to be true. "
   ]
  },
  {
   "cell_type": "code",
   "execution_count": 5,
   "id": "48c76ae3",
   "metadata": {
    "scrolled": true
   },
   "outputs": [
    {
     "name": "stdout",
     "output_type": "stream",
     "text": [
      "[15, 46, 23, 70, 35, 106, 53, 160, 80, 40, 20, 10, 5, 16, 8, 4, 2, 1]\n",
      "[17, 52, 26, 13, 40, 20, 10, 5, 16, 8, 4, 2, 1]\n",
      "[22, 11, 34, 17, 52, 26, 13, 40, 20, 10, 5, 16, 8, 4, 2, 1]\n"
     ]
    }
   ],
   "source": [
    "hs15 = [15]\n",
    "n= 15\n",
    "while n != 1:\n",
    "    if n % 2 == 0:\n",
    "        n = n/2\n",
    "        hs15.append(int(n))\n",
    "    else: \n",
    "        n = 3*n+1\n",
    "        hs15.append(int(n))\n",
    "print(hs15)\n",
    "\n",
    "hs17 = [17]\n",
    "n= 17\n",
    "while n != 1:\n",
    "    if n % 2 == 0:\n",
    "        n = n/2\n",
    "        hs17.append(int(n))\n",
    "    else: \n",
    "        n = 3*n+1\n",
    "        hs17.append(int(n))\n",
    "print(hs17)\n",
    "\n",
    "hs22 = [22]\n",
    "n= 22\n",
    "while n != 1:\n",
    "    if n % 2 == 0:\n",
    "        n = n/2\n",
    "        hs22.append(int(n))\n",
    "    else:\n",
    "        n = 3*n+1\n",
    "        hs22.append(int(n))     \n",
    "print(hs22)"
   ]
  },
  {
   "cell_type": "markdown",
   "id": "d49c83b1",
   "metadata": {},
   "source": [
    "## Problem 5: Predator/Prey Model\n",
    "\n",
    "\n",
    "Assume that a certain ecosystem contains both rabbits and wolves. The size of the rabbit population and the size of the\n",
    "wolf population both fluctuate, and have an effect on each other. Suppose that the current sizes of the populations can be\n",
    "used to determine the sizes of the populations one year from now according to the following population model:\n",
    "\n",
    "• Let 𝑟𝑐 be the current size of the rabbit population.\n",
    "\n",
    "• Let 𝑤𝑐 be the current size of the wolf population.\n",
    "\n",
    "• Let 𝑟𝑛 be the size of the rabbit population one year from now.\n",
    "\n",
    "• Let 𝑤𝑛 be the size of the wolf population one year from now\n",
    "\n",
    "• The population sizes one year from now are determine by the following \n",
    "\n",
    "equations:\n",
    "\n",
    "𝑟𝑛 = 1.5 ⋅ 𝑟𝑐 − 0.002 ⋅ 𝑟𝑐⋅ 𝑤𝑐\n",
    "\n",
    "𝑤𝑛 = 0.8 ⋅ 𝑤𝑐 +0.0003 ⋅ 𝑟𝑐⋅ 𝑤𝑐\n",
    "\n",
    "Suppose that the current rabbit population is 1000 and the current wolf population is 200. Under these circumstances, the\n",
    "populations will fluctuate for several years, but the rabbit population will eventually die out completely."
   ]
  },
  {
   "cell_type": "code",
   "execution_count": 6,
   "id": "8d453b5c",
   "metadata": {
    "scrolled": true
   },
   "outputs": [
    {
     "name": "stdout",
     "output_type": "stream",
     "text": [
      "Year       r_pop     w_pop\n",
      "--------------------------\n",
      "0          1000      200\n",
      "1          1100      220\n",
      "2          1166      249\n",
      "3          1169      286\n",
      "4          1085      329\n",
      "5           914      370\n",
      "6           694      398\n",
      "7           489      401\n",
      "8           341      380\n",
      "9           253      343\n",
      "10          206      300\n",
      "11          185      259\n",
      "12          182      221\n",
      "13          193      189\n",
      "14          216      162\n",
      "15          254      140\n",
      "16          310      123\n",
      "17          389      110\n",
      "18          497      101\n",
      "19          646       95\n",
      "20          846       95\n",
      "21         1108      100\n",
      "22         1441      113\n",
      "23         1835      140\n",
      "24         2240      188\n",
      "25         2516      277\n",
      "26         2378      431\n",
      "27         1516      653\n",
      "28          295      819\n",
      "29            0      728\n"
     ]
    }
   ],
   "source": [
    "r_pop = 1000\n",
    "w_pop = 200\n",
    "\n",
    "print(f'{\"Year\":<6}{\"r_pop\":>10}{\"w_pop\":>10}')\n",
    "print('--------------------------')\n",
    "print(f'{\"0\":<6}{r_pop:>9}{w_pop:>9}')\n",
    "\n",
    "new_year = 0\n",
    "while r_pop > 0:\n",
    "    r_pop_prev = r_pop\n",
    "    w_pop_prev = w_pop\n",
    "    r_pop = (1.5 * r_pop_prev) - 0.002 * (r_pop_prev * w_pop_prev)\n",
    "    w_pop = (0.8 * w_pop_prev) + 0.0003 * (r_pop_prev * w_pop_prev)\n",
    "    if r_pop < 0:\n",
    "        r_pop = 0 \n",
    "    new_year += 1\n",
    "    print('{:<5.0f}'.format(new_year),'{:>9.0f}'.format(r_pop), '{:>8.0f}'.format(w_pop))"
   ]
  },
  {
   "cell_type": "markdown",
   "id": "754c5e64",
   "metadata": {},
   "source": [
    " ## Problem 6: Finding a Root of a Polynomial Function\n",
    "Consider the function 𝑓(𝑥) = 𝑥\n",
    "3 − 4𝑥\n",
    "2 + 3𝑥 − 4. A plot of this function for values of 𝑥 between 0 and 5 is provided below. \n",
    "\n",
    "The plot above shows that the function 𝑓(𝑥) is equal to zero somewhere between 𝑥 = 0 and 𝑥 = 5. In other words, the\n",
    "plot shows that the equation 𝑥\n",
    "3 − 4𝑥\n",
    "2 + 3𝑥 − 4 = 0 has a solution somewhere between 𝑥 = 0 and 𝑥 = 5. Your goal in\n",
    "this problem will be to approximate the value of this solution."
   ]
  },
  {
   "cell_type": "code",
   "execution_count": 7,
   "id": "9f13f251",
   "metadata": {
    "scrolled": true
   },
   "outputs": [
    {
     "name": "stdout",
     "output_type": "stream",
     "text": [
      "The approximate solution is x = 3.4675044.\n",
      "The algorithm took 22 iterations to coverage. \n"
     ]
    }
   ],
   "source": [
    "x1 = 0\n",
    "x2 = 5\n",
    "val1 = (x1**3) - 4*(x1**2) + 3*(x1) - 4\n",
    "val2 = (x2**3) - 4*(x2**2) + 3*(x2) - 4\n",
    "\n",
    "n = 0 \n",
    "while (abs(val1) > 0.000001) and (abs(val2) > 0.000001):\n",
    "    new_x = (x1 + x2) / 2\n",
    "    new_val = (new_x**3) - 4*(new_x**2) + 3*(new_x) - 4\n",
    "    if new_val < 0:\n",
    "        x1 = new_x\n",
    "        val1 = new_val\n",
    "    else:\n",
    "        x2 = new_x\n",
    "        val2 = new_val\n",
    "    n += 1\n",
    "print(f'The approximate solution is x = {round((x1 + x2)/2, 7)}.')\n",
    "print(f'The algorithm took {n} iterations to coverage. ')"
   ]
  },
  {
   "cell_type": "markdown",
   "id": "981a22c9",
   "metadata": {},
   "source": [
    "## Problem 7: Grade Database\n",
    "\n",
    "In this problem, you will be displaying (fictional) grade information that is assumed to be taken from a university's grade\n",
    "database. The information is stored in two dictionaries and three lists, as shown below"
   ]
  },
  {
   "cell_type": "code",
   "execution_count": 8,
   "id": "471f7135",
   "metadata": {},
   "outputs": [],
   "source": [
    "students = {\n",
    " 146832:{'first':'Brendan', 'last':'Small'},\n",
    " 147354:{'first':'Melissa', 'last':'Robbins'},\n",
    " 149126:{'first':'Jason', 'last':'Penopolis'},\n",
    " 149735:{'first':'Fenton', 'last':'Mulley'}\n",
    "}\n",
    "courses = {\n",
    " 'ENGL 101':'Composition I',\n",
    " 'ENGL 104':'Composition II',\n",
    " 'MATH 117':'College Algebra',\n",
    " 'MATH 151':'Calculus I',\n",
    " 'CHEM 103':'General Chemistry I',\n",
    " 'ECON 201':'Macroeconomics'\n",
    "}\n",
    "sid = [149126, 146832, 147354, 149735, 149126, 146832,\n",
    " 146832, 149735, 149126, 147354, 147354, 149735]\n",
    "cid = ['ENGL 101', 'MATH 117', 'ENGL 104', 'CHEM 103', 'MATH 117', 'ECON 201',\n",
    " 'ENGL 101', 'ENGL 101', 'CHEM 103', 'ENGL 104', 'MATH 151', 'MATH 117']\n",
    "grade = ['D', 'C', 'B', 'A', 'B', 'C',\n",
    " 'A', 'F', 'B', 'A', 'A', 'C']"
   ]
  },
  {
   "cell_type": "code",
   "execution_count": 9,
   "id": "ab6c05e6",
   "metadata": {
    "scrolled": false
   },
   "outputs": [
    {
     "name": "stdout",
     "output_type": "stream",
     "text": [
      "SID      First     Last        CID        Course Name           Grade\n",
      "---------------------------------------------------------------------\n",
      "149126   Jason     Penopolis   ENGL 101   Composition I            D\n",
      "146832   Brendan   Small       MATH 117   College Algebra          C\n",
      "147354   Melissa   Robbins     ENGL 104   Composition II           B\n",
      "149735   Fenton    Mulley      CHEM 103   General Chemistry I      A\n",
      "149126   Jason     Penopolis   MATH 117   College Algebra          B\n",
      "146832   Brendan   Small       ECON 201   Macroeconomics           C\n",
      "146832   Brendan   Small       ENGL 101   Composition I            A\n",
      "149735   Fenton    Mulley      ENGL 101   Composition I            F\n",
      "149126   Jason     Penopolis   CHEM 103   General Chemistry I      B\n",
      "147354   Melissa   Robbins     ENGL 104   Composition II           A\n",
      "147354   Melissa   Robbins     MATH 151   Calculus I               A\n",
      "149735   Fenton    Mulley      MATH 117   College Algebra          C\n"
     ]
    }
   ],
   "source": [
    "print(f'{\"SID\":<9}{\"First\":<10}{\"Last\":<12}{\"CID\":<11}{\"Course Name\":<22}{\"Grade\"}')\n",
    "print(\"-\"*69)\n",
    "\n",
    "\n",
    "for i in range(len(sid)):\n",
    "    print(f\"{sid[i]:<9}{students[sid[i]]['first']:<10}{students[sid[i]]['last']:<12}{cid[i]:<11}{courses[cid[i]]:<22}{grade[i]:>4}\")"
   ]
  },
  {
   "cell_type": "markdown",
   "id": "47f073b2",
   "metadata": {},
   "source": [
    "## Problem 8: Warehouse Inventory\n",
    "\n",
    "\n",
    "Suppose that a company sells five products with product codes p101, p107, p122, p125, and p126. The company has three\n",
    "warehouses, which are located in St. Louis, Chicago, and Kansas City. The retail value for each of the five products and the\n",
    "inventory for each of the warehouses are stored in dictionaries, as shown below. "
   ]
  },
  {
   "cell_type": "code",
   "execution_count": 10,
   "id": "0b4e6700",
   "metadata": {},
   "outputs": [],
   "source": [
    "prices = {'p101':37.52, 'p117':56.98, 'p122':43.72, 'p125':48.33, 'p126':52.45}\n",
    "inventory = {\n",
    " 'STL':{'p101':520, 'p117':315, 'p122':117, 'p125':258, 'p126':345},\n",
    " 'CHI':{'p101':125, 'p117':864, 'p122':231, 'p125':612, 'p126':164},\n",
    " 'KC' :{'p101':264, 'p117':285, 'p122':772, 'p125':467, 'p126':106}\n",
    "}\n"
   ]
  },
  {
   "cell_type": "code",
   "execution_count": 11,
   "id": "6b161faa",
   "metadata": {},
   "outputs": [
    {
     "name": "stdout",
     "output_type": "stream",
     "text": [
      "p101: 909\n",
      "p117: 1464\n",
      "p122: 1120\n",
      "p125: 1337\n",
      "p126: 615\n",
      "The total value of inventory is $263364.76.\n"
     ]
    }
   ],
   "source": [
    "total_inventory = {}\n",
    "\n",
    "for i in prices.keys():\n",
    "    quantity = 0\n",
    "    prod_id = i\n",
    "    S = inventory['STL'][i]\n",
    "    C = inventory['CHI'][i]\n",
    "    K = inventory['KC'][i]\n",
    "    quantity += S + K + C\n",
    "    total_inventory[i] = quantity\n",
    "\n",
    "for i in total_inventory:\n",
    "    print(f'{i}: {total_inventory[i]}')\n",
    "    \n",
    "total_value = 0 \n",
    "for i in prices:\n",
    "    total_value +=  total_inventory[i] * prices[i]  \n",
    "print(f'The total value of inventory is ${total_value}.')"
   ]
  }
 ],
 "metadata": {
  "kernelspec": {
   "display_name": "Python 3 (ipykernel)",
   "language": "python",
   "name": "python3"
  },
  "language_info": {
   "codemirror_mode": {
    "name": "ipython",
    "version": 3
   },
   "file_extension": ".py",
   "mimetype": "text/x-python",
   "name": "python",
   "nbconvert_exporter": "python",
   "pygments_lexer": "ipython3",
   "version": "3.9.7"
  }
 },
 "nbformat": 4,
 "nbformat_minor": 5
}
