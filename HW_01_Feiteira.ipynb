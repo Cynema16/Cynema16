{
 "cells": [
  {
   "cell_type": "markdown",
   "id": "a105cfc5",
   "metadata": {},
   "source": [
    "# COSC 130 - Homework 01\n",
    "\n",
    "## Cynthia Feiteira "
   ]
  },
  {
   "cell_type": "code",
   "execution_count": 1,
   "id": "9808cbe7",
   "metadata": {
    "scrolled": true
   },
   "outputs": [
    {
     "name": "stdout",
     "output_type": "stream",
     "text": [
      "sum:                    59\n",
      "product:                42636\n",
      "arithmetic mean:\t14.75\n",
      "geometric mean:         14.37\n"
     ]
    }
   ],
   "source": [
    "x0 = 11 \n",
    "x1 = 12 \n",
    "x2 = 17 \n",
    "x3 = 19 \n",
    "\n",
    "\n",
    "\n",
    "total = x0 + x1 + x2 + x3\n",
    "\n",
    "\n",
    "\n",
    "product = x0 * x1 * x2 * x3 \n",
    "\n",
    "\n",
    "arith_mean = total / 4\n",
    "\n",
    "\n",
    "geom_mean = product ** (1/4)\n",
    "\n",
    "print(f\"sum:{total:>22}\")\n",
    "print(f\"product:{product:>21}\")\n",
    "print(f\"arithmetic mean:\\t{arith_mean}\")\n",
    "print(f\"geometric mean:{round(geom_mean, 2):>14}\")\n"
   ]
  },
  {
   "cell_type": "code",
   "execution_count": 2,
   "id": "a8c3c252",
   "metadata": {},
   "outputs": [
    {
     "name": "stdout",
     "output_type": "stream",
     "text": [
      "2 Side Salads:\t$7.90\n",
      "2 Hamburgers:\t$17.90\n",
      "2 Diet Sodas:\t$5.00\n",
      "----------------------\n",
      "Subtotal:\t$30.80\n",
      "Tax (4.75%):\t$1.46\n",
      "Tip (15%):\t$4.62\n",
      "----------------------\n",
      "Total Charge:\t$36.88\n"
     ]
    }
   ],
   "source": [
    "ss_cost = 2 * 3.95 \n",
    "hb_cost = 2 * 8.95\n",
    "ds_cost = 2 * 2.50\n",
    "\n",
    "ss_cost + hb_cost + ds_cost\n",
    " \n",
    "subtotal = ss_cost + hb_cost + ds_cost\n",
    "\n",
    "\n",
    "tax  = subtotal * 0.0475 \n",
    "\n",
    "\n",
    "tip = subtotal * 0.15\n",
    "\n",
    "\n",
    "total_charge = subtotal + tax + tip\n",
    "\n",
    "print(f\"2 Side Salads:\\t${ss_cost:>.2f}\")\n",
    "print(f\"2 Hamburgers:\\t${hb_cost:>.2f}\")\n",
    "print(f\"2 Diet Sodas:\\t${ds_cost:.2f}\")\n",
    "print(\"----------------------\")\n",
    "print(f\"Subtotal:\\t${subtotal:.2f}\")\n",
    "print(f\"Tax (4.75%):\\t${tax:.2f}\")\n",
    "print(f\"Tip (15%):\\t${tip:.2f}\")\n",
    "print(\"----------------------\")\n",
    "print(f\"Total Charge:\\t${total_charge:.2f}\")"
   ]
  },
  {
   "cell_type": "code",
   "execution_count": 3,
   "id": "fdcea364",
   "metadata": {},
   "outputs": [
    {
     "name": "stdout",
     "output_type": "stream",
     "text": [
      "The Volume of a sphere with a radius 4.6 is equal to 407.72\n",
      "The Volume of a sphere with a radius 7.2 is equal to 1563.456\n",
      "The Volume of a sphere with a radius 9.7 is equal to 3822.992\n"
     ]
    }
   ],
   "source": [
    "pi = 3.14159\n",
    "r1 = 4.6\n",
    "r2 = 7.2\n",
    "r3 = 9.7\n",
    "\n",
    "v1 = 4/3 * pi * r1 **(3)\n",
    "\n",
    "\n",
    "v2 = 4/3 * pi * r2 **(3)\n",
    "\n",
    "\n",
    "v3 = 4/3 * pi * r3 **(3)\n",
    "\n",
    "print('The Volume of a sphere with a radius', r1, 'is equal to', round(v1, 3))\n",
    "print('The Volume of a sphere with a radius', r2, 'is equal to', round(v2, 3))\n",
    "print('The Volume of a sphere with a radius', r3, 'is equal to', round(v3, 3))"
   ]
  },
  {
   "cell_type": "code",
   "execution_count": 4,
   "id": "1d4594c7",
   "metadata": {},
   "outputs": [
    {
     "name": "stdout",
     "output_type": "stream",
     "text": [
      "Amount repaid: $225.75\n"
     ]
    }
   ],
   "source": [
    "P = 210\n",
    "i = 0.09\n",
    "t = 10/12\n",
    "\n",
    "P * (1 + i * t)\n",
    "\n",
    "A = 225.75\n",
    "\n",
    "print(f\"Amount repaid: ${A}\")"
   ]
  },
  {
   "cell_type": "code",
   "execution_count": 5,
   "id": "60c6eb17",
   "metadata": {
    "scrolled": true
   },
   "outputs": [
    {
     "name": "stdout",
     "output_type": "stream",
     "text": [
      "Amount repaid: $463.05\n"
     ]
    }
   ],
   "source": [
    "P = 400\n",
    "i = 0.05\n",
    "t = 3\n",
    "\n",
    "P * (1 + i)**(t)\n",
    "\n",
    "A = 463.05\n",
    "\n",
    "print(f\"Amount repaid: ${A}\")"
   ]
  },
  {
   "cell_type": "code",
   "execution_count": 6,
   "id": "0c87d673",
   "metadata": {},
   "outputs": [
    {
     "name": "stdout",
     "output_type": "stream",
     "text": [
      "Balance after 18 years: $51290.82\n"
     ]
    }
   ],
   "source": [
    "pmt = 2000\n",
    "i = 0.04\n",
    "n = 18\n",
    "\n",
    "pmt * (((1+i) **(n) - 1)/i)\n",
    "\n",
    "A = 51290.82\n",
    "\n",
    "print(f\"Balance after 18 years: ${A}\")"
   ]
  },
  {
   "cell_type": "code",
   "execution_count": 7,
   "id": "9785b67a",
   "metadata": {},
   "outputs": [
    {
     "name": "stdout",
     "output_type": "stream",
     "text": [
      "Probability that both people are late:           0.72\n",
      "Probability that at least one person is late:    0.18\n"
     ]
    }
   ],
   "source": [
    "prob_A = 0.6\n",
    "prob_B = 0.3\n",
    "\n",
    "\n",
    "prob_A_or_B = prob_A * prob_B\n",
    "\n",
    "\n",
    "prob_A_and_B = prob_A + prob_B - prob_A_or_B\n",
    "\n",
    "print(f\"Probability that both people are late:{prob_A_and_B:>15}\")\n",
    "print(f\"Probability that at least one person is late:{prob_A_or_B:>8}\")"
   ]
  },
  {
   "cell_type": "code",
   "execution_count": 8,
   "id": "93293214",
   "metadata": {},
   "outputs": [
    {
     "name": "stdout",
     "output_type": "stream",
     "text": [
      "First Name:    Cynthia   \n",
      "Last Name:     Feiteira  \n",
      "Student ID:    1043230   \n"
     ]
    }
   ],
   "source": [
    "first = 'Cynthia'\n",
    "last = \"Feiteira\"\n",
    "sid = 1043230\n",
    "FirstName = \"First Name:\"\n",
    "LastName = \"Last Name:\"\n",
    "StudentID = \"Student ID:\"\n",
    "\n",
    "msg = f'{FirstName:<15}{first:<10}\\n{LastName:<15}{last:<10}\\n{StudentID:<15}{sid:<10}'\n",
    "\n",
    "\n",
    "print(msg)"
   ]
  },
  {
   "cell_type": "code",
   "execution_count": 9,
   "id": "037a19c3",
   "metadata": {},
   "outputs": [
    {
     "data": {
      "text/plain": [
       "77"
      ]
     },
     "execution_count": 9,
     "metadata": {},
     "output_type": "execute_result"
    }
   ],
   "source": [
    "len(msg)"
   ]
  }
 ],
 "metadata": {
  "kernelspec": {
   "display_name": "Python 3 (ipykernel)",
   "language": "python",
   "name": "python3"
  },
  "language_info": {
   "codemirror_mode": {
    "name": "ipython",
    "version": 3
   },
   "file_extension": ".py",
   "mimetype": "text/x-python",
   "name": "python",
   "nbconvert_exporter": "python",
   "pygments_lexer": "ipython3",
   "version": "3.9.7"
  }
 },
 "nbformat": 4,
 "nbformat_minor": 5
}
