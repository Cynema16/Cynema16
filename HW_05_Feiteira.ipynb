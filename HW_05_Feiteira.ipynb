{
 "cells": [
  {
   "cell_type": "markdown",
   "id": "bf8d7d90",
   "metadata": {},
   "source": [
    "# COSC 130 - Homework 05\n",
    "\n",
    "### Cynthia Feiteira "
   ]
  },
  {
   "cell_type": "code",
   "execution_count": 1,
   "id": "4e5ebca4",
   "metadata": {},
   "outputs": [],
   "source": [
    "import random"
   ]
  },
  {
   "cell_type": "markdown",
   "id": "8666d822",
   "metadata": {},
   "source": [
    "## Problem 1: Argument Sort"
   ]
  },
  {
   "cell_type": "code",
   "execution_count": 2,
   "id": "e8fa5647",
   "metadata": {},
   "outputs": [],
   "source": [
    "def argsort(x, reverse = False):\n",
    "    tuples_list = []\n",
    "    for i in range(len(x)):\n",
    "        list_x = ((x[i], i))\n",
    "        tuples_list.append(list_x)\n",
    "        if reverse:   \n",
    "            sorted_tuple = sorted(tuples_list, reverse = True)\n",
    "        else:\n",
    "            sorted_tuple = sorted(tuples_list)\n",
    "    idx_list = []\n",
    "    for j in range(len(sorted_tuple)):\n",
    "        idx_list.append(sorted_tuple[j][1])\n",
    "    return idx_list"
   ]
  },
  {
   "cell_type": "code",
   "execution_count": 3,
   "id": "f0af3817",
   "metadata": {},
   "outputs": [
    {
     "name": "stdout",
     "output_type": "stream",
     "text": [
      "[5, 6, 2, 3, 7, 4, 0, 1]\n"
     ]
    }
   ],
   "source": [
    "list1 = [76, 81, 30, 47, 50, 18, 23, 49]\n",
    "reverse = False\n",
    "print(argsort(list1, reverse))"
   ]
  },
  {
   "cell_type": "code",
   "execution_count": 4,
   "id": "157c75ea",
   "metadata": {
    "scrolled": true
   },
   "outputs": [
    {
     "name": "stdout",
     "output_type": "stream",
     "text": [
      "[5, 2, 4, 0, 1, 3]\n"
     ]
    }
   ],
   "source": [
    "list2 = ['Chad', 'Beth', 'Emma', 'Alex', 'Drew', 'Fred']\n",
    "reverse = True\n",
    "print(argsort(list2, reverse))"
   ]
  },
  {
   "cell_type": "markdown",
   "id": "468e4330",
   "metadata": {},
   "source": [
    "## Problem 2: Process Lines of Text"
   ]
  },
  {
   "cell_type": "code",
   "execution_count": 5,
   "id": "fc43f5d8",
   "metadata": {},
   "outputs": [],
   "source": [
    "def process_line(line, schema, sep):\n",
    "    tokens = line.split(sep)\n",
    "    result = []\n",
    "    for i in range(len(tokens)):\n",
    "        t = tokens[i]\n",
    "        dt = schema[i]\n",
    "        both = dt(t)\n",
    "        result.append(both)\n",
    "    return result"
   ]
  },
  {
   "cell_type": "code",
   "execution_count": 6,
   "id": "51557c36",
   "metadata": {
    "scrolled": true
   },
   "outputs": [
    {
     "data": {
      "text/plain": [
       "[6, 174, 'Blah', 'Hello World', 7.37]"
      ]
     },
     "execution_count": 6,
     "metadata": {},
     "output_type": "execute_result"
    }
   ],
   "source": [
    "test_schema = [int, int, str, str, float]\n",
    "test_line = '6,174,Blah,Hello World,7.37'\n",
    "\n",
    "process_line(test_line, test_schema, ',')"
   ]
  },
  {
   "cell_type": "markdown",
   "id": "b788908d",
   "metadata": {},
   "source": [
    "## Problem 3: Processing File Input"
   ]
  },
  {
   "cell_type": "code",
   "execution_count": 7,
   "id": "4cba9db8",
   "metadata": {},
   "outputs": [],
   "source": [
    "def read_file_to_list(path, schema, sep= ','):\n",
    "    with open(path) as fin:\n",
    "        contents = fin.read()\n",
    "        lines = contents.split('\\n')\n",
    "        data = []\n",
    "        data.append(lines[0].split(sep))\n",
    "        del lines[0]\n",
    "        for i in range(len(lines)):\n",
    "            data.append(process_line(lines[i], schema, sep))\n",
    "        return data"
   ]
  },
  {
   "cell_type": "code",
   "execution_count": 8,
   "id": "7575fcdc",
   "metadata": {
    "scrolled": true
   },
   "outputs": [
    {
     "name": "stdout",
     "output_type": "stream",
     "text": [
      "['carat', 'cut', 'color', 'clarity', 'price']\n",
      "[0.36, 'Ideal', 'E', 'VS2', 1013]\n",
      "[0.3, 'Fair', 'J', 'VS2', 416]\n",
      "[1.22, 'Ideal', 'H', 'SI1', 6541]\n",
      "[0.48, 'Good', 'G', 'SI1', 914]\n",
      "[0.75, 'Ideal', 'J', 'VS1', 2300]\n",
      "[0.31, 'Premium', 'H', 'VVS2', 802]\n",
      "[2.48, 'Very Good', 'H', 'SI2', 15746]\n",
      "[1.0, 'Good', 'D', 'SI1', 5469]\n",
      "[0.51, 'Very Good', 'F', 'VS1', 1627]\n"
     ]
    }
   ],
   "source": [
    "schema = [float, str, str, str, int]\n",
    "diamond_data = read_file_to_list('diamonds_partial.txt', schema, ',')\n",
    "for i in range(len(diamond_data)):\n",
    "    print(diamond_data[i])"
   ]
  },
  {
   "cell_type": "code",
   "execution_count": 9,
   "id": "2c6a4188",
   "metadata": {},
   "outputs": [
    {
     "name": "stdout",
     "output_type": "stream",
     "text": [
      "['Survived', 'Pclass', 'Name', 'Sex', 'Age', 'Fare']\n",
      "[0, 3, 'Mr. Owen Harris Braund', 'male', 22, 7.25]\n",
      "[1, 3, 'Miss. Laina Heikkinen', 'female', 26, 7.925]\n",
      "[1, 2, 'Mrs. Nicholas Nasser', 'female', 14, 30.0708]\n",
      "[1, 3, 'Miss. Marguerite Rut Sandstrom', 'female', 4, 16.7]\n",
      "[1, 1, 'Miss. Elizabeth Bonnell', 'female', 58, 26.55]\n",
      "[0, 3, 'Mr. William Henry Saundercock', 'male', 20, 8.05]\n",
      "[0, 3, 'Mr. Anders Johan Andersson', 'male', 39, 31.275]\n",
      "[0, 3, 'Miss. Hulda Amanda Adolfina Vestrom', 'female', 14, 7.8542]\n",
      "[0, 3, 'Master. Eugene Rice', 'male', 2, 29.125]\n",
      "[1, 2, 'Mr. Charles Eugene Williams', 'male', 23, 13.0]\n"
     ]
    }
   ],
   "source": [
    "schema = [int, int, str, str, int, float]\n",
    "sep = \"\t\"\n",
    "titanic_data = read_file_to_list('titanic_partial.txt', schema, sep)\n",
    "for i in range(len(titanic_data)):\n",
    "    print(titanic_data[i])"
   ]
  },
  {
   "cell_type": "markdown",
   "id": "b9edf394",
   "metadata": {},
   "source": [
    "## Problem 4: Recursive Product\n"
   ]
  },
  {
   "cell_type": "code",
   "execution_count": 10,
   "id": "9670531d",
   "metadata": {},
   "outputs": [],
   "source": [
    "def recursive_product(x):\n",
    "    if len(x) > 1:\n",
    "        return x[0] * recursive_product(x[1:])\n",
    "    else:\n",
    "        return (x[0])"
   ]
  },
  {
   "cell_type": "code",
   "execution_count": 11,
   "id": "be34f6ef",
   "metadata": {},
   "outputs": [
    {
     "name": "stdout",
     "output_type": "stream",
     "text": [
      "2423520\n"
     ]
    }
   ],
   "source": [
    "factors = [11, 8, 17, 9, 18, 10]\n",
    "print(recursive_product(factors))"
   ]
  },
  {
   "cell_type": "markdown",
   "id": "20a0eeec",
   "metadata": {},
   "source": [
    "## Problem 5: Greatest Common Divisor"
   ]
  },
  {
   "cell_type": "code",
   "execution_count": 12,
   "id": "696b103e",
   "metadata": {},
   "outputs": [],
   "source": [
    "def gcd(a, b):\n",
    "    if b == 0:\n",
    "        return a\n",
    "    else:\n",
    "        return gcd(b, a % b)"
   ]
  },
  {
   "cell_type": "code",
   "execution_count": 13,
   "id": "266ff709",
   "metadata": {
    "scrolled": true
   },
   "outputs": [
    {
     "name": "stdout",
     "output_type": "stream",
     "text": [
      "12\n",
      "30\n",
      "20\n",
      "1\n"
     ]
    }
   ],
   "source": [
    "print(gcd(72, 300))\n",
    "print(gcd(180, 210))\n",
    "print(gcd(20, 400))\n",
    "print(gcd(30, 77))\n",
    "\n"
   ]
  },
  {
   "cell_type": "markdown",
   "id": "98e3d6e8",
   "metadata": {},
   "source": [
    "## Problem 6: Flattening Nested Lists\n"
   ]
  },
  {
   "cell_type": "code",
   "execution_count": 14,
   "id": "fa9cfad0",
   "metadata": {},
   "outputs": [],
   "source": [
    "def flatten(x):\n",
    "    flat_list = []\n",
    "    if len(x) == 0:\n",
    "        return x\n",
    "    if isinstance(x[0], list):\n",
    "        return flatten(x[0]) + flatten(x[1:])\n",
    "    return x[:1] + flatten(x[1:])\n"
   ]
  },
  {
   "cell_type": "code",
   "execution_count": 15,
   "id": "c1bb731f",
   "metadata": {
    "scrolled": true
   },
   "outputs": [
    {
     "name": "stdout",
     "output_type": "stream",
     "text": [
      "[1, 2, 3]\n",
      "[1, 2, 3]\n",
      "[1, 2, 4, 5, 6]\n",
      "[1, 8, 5, 6, 4, 9, 7, 2, 3]\n"
     ]
    }
   ],
   "source": [
    "print(flatten([1, 2, 3]))\n",
    "print(flatten([1, [2], [3]]))\n",
    "print(flatten([1, [2], [[4, 5], 6]]))\n",
    "print(flatten([1, [8, [5, 6, [4, 9]]], [7, 2, 3]]))\n"
   ]
  },
  {
   "cell_type": "markdown",
   "id": "e2389cc2",
   "metadata": {},
   "source": [
    "## Problem 7: Binary Search\n"
   ]
  },
  {
   "cell_type": "code",
   "execution_count": 16,
   "id": "93101eab",
   "metadata": {},
   "outputs": [],
   "source": [
    "def binary_search(x, item):\n",
    "    if (item < x[0]) or (item > x[-1]):\n",
    "        return False\n",
    "    mid = (len(x)//2)\n",
    "    mid = int(mid)\n",
    "    if item == x[mid]:\n",
    "        return True\n",
    "    if item < x[mid]:\n",
    "        return binary_search(x[:mid], item)\n",
    "    if item > x[mid]:\n",
    "        return binary_search(x[mid:], item)"
   ]
  },
  {
   "cell_type": "code",
   "execution_count": 17,
   "id": "d6c0cec1",
   "metadata": {
    "scrolled": true
   },
   "outputs": [
    {
     "name": "stdout",
     "output_type": "stream",
     "text": [
      "0 - True\n",
      "1 - False\n",
      "2 - True\n",
      "3 - True\n",
      "4 - True\n",
      "5 - False\n",
      "6 - False\n",
      "7 - False\n",
      "8 - False\n",
      "9 - True\n"
     ]
    }
   ],
   "source": [
    "random.seed(1)\n",
    "random_list_1 = sorted(random.choices(range(100), k=100))\n",
    "\n",
    "for i in range(0, 10):\n",
    "    print(f'{i} - {binary_search(random_list_1, i)}')        "
   ]
  },
  {
   "cell_type": "markdown",
   "id": "f61d0f98",
   "metadata": {},
   "source": [
    "## Problem 8: Quicksort\n"
   ]
  },
  {
   "cell_type": "code",
   "execution_count": 18,
   "id": "3a5486b7",
   "metadata": {},
   "outputs": [],
   "source": [
    "def quicksort(x):\n",
    "    temp = len(x)\n",
    "    if temp <= 1:\n",
    "        return x\n",
    "    pivot = x[0]\n",
    "    mid = [pivot]\n",
    "    low = []\n",
    "    high = []\n",
    "    for i in x[1:]:\n",
    "        if i < pivot:\n",
    "            low.append(i)\n",
    "        else:\n",
    "            high.append(i)\n",
    "    sorted_low = quicksort(low)\n",
    "    sorted_high = quicksort(high)\n",
    "    x = sorted_low + mid + sorted_high\n",
    "    return x"
   ]
  },
  {
   "cell_type": "code",
   "execution_count": 19,
   "id": "05b7b9c6",
   "metadata": {},
   "outputs": [
    {
     "name": "stdout",
     "output_type": "stream",
     "text": [
      "[95, 94, 5, 8, 83, 73, 66, 30, 60, 60, 58, 15, 43, 39, 72, 99, 94, 54, 44, 26] [5, 8, 15, 26, 30, 39, 43, 44, 54, 58, 60, 60, 66, 72, 73, 83, 94, 94, 95, 99]\n"
     ]
    }
   ],
   "source": [
    "random.seed(2)\n",
    "random_list_2 = random.choices(range(100), k=20)\n",
    "print(random_list_2, quicksort(random_list_2))"
   ]
  }
 ],
 "metadata": {
  "kernelspec": {
   "display_name": "Python 3 (ipykernel)",
   "language": "python",
   "name": "python3"
  },
  "language_info": {
   "codemirror_mode": {
    "name": "ipython",
    "version": 3
   },
   "file_extension": ".py",
   "mimetype": "text/x-python",
   "name": "python",
   "nbconvert_exporter": "python",
   "pygments_lexer": "ipython3",
   "version": "3.9.7"
  }
 },
 "nbformat": 4,
 "nbformat_minor": 5
}
