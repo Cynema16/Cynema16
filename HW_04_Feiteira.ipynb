{
 "cells": [
  {
   "cell_type": "markdown",
   "id": "07a1c9e2",
   "metadata": {},
   "source": [
    "#  COSC 130 - Homework 04\n",
    "\n",
    "### Cynthia Feiteira "
   ]
  },
  {
   "cell_type": "markdown",
   "id": "fe0b3588",
   "metadata": {},
   "source": [
    "## Problem 1: Dot Product\n",
    "\n",
    "In this problem, you will write a function named that performs the dot product operation on two vectors. In mathematics, a\n",
    "vector is essentially a sequence of numbers, similar to a Python list. Given to vectors of equal size, the dot product of those\n",
    "vectors is calculated by multiplying corresponding elements of the two vectors and then summing the products.\n",
    "\n",
    "As an example, consider vectors represented by the following two lists:\n",
    "\n",
    "a = [3, 4, 2, 1]\n",
    "\n",
    "b = [5, 2, 3, 7]\n",
    "\n",
    "Then the dot product of these two vectors would be 3 ⋅ 5 + 4 ⋅ 2 + 2 ⋅ 3+ 1 ⋅ 7 = 15 + 8 +6 + 7 = 36."
   ]
  },
  {
   "cell_type": "code",
   "execution_count": 1,
   "id": "f1b2303c",
   "metadata": {},
   "outputs": [],
   "source": [
    "def dot_product(x, y):\n",
    "    dp = 0\n",
    "    for i in range(len(x)):\n",
    "        dp += (x[i] * y[i])\n",
    "    return dp\n"
   ]
  },
  {
   "cell_type": "code",
   "execution_count": 2,
   "id": "f2b45a28",
   "metadata": {},
   "outputs": [
    {
     "name": "stdout",
     "output_type": "stream",
     "text": [
      "The dot product of v1 and v2 is 16220\n"
     ]
    }
   ],
   "source": [
    "v1 = [38, 9, 40, 34, 20, 16, 42, 36, 12, 1, 23, 46, 31, 19, 30, 33, 16, 43, 24, 41]\n",
    "v2 = [43, 13, 35, 14, 26, 3, 36, 15, 42, 44, 45, 20, 17, 6, 47, 40, 38, 41, 31, 24]\n",
    "    \n",
    "print(f'The dot product of v1 and v2 is {dot_product(v1, v2)}')"
   ]
  },
  {
   "cell_type": "markdown",
   "id": "4a78630b",
   "metadata": {},
   "source": [
    "## Problem 2: Amortization\n",
    "\n",
    "In this problem, we will create a function that counts the number of monthly payments required to pay back a loan"
   ]
  },
  {
   "cell_type": "code",
   "execution_count": 3,
   "id": "80265f7f",
   "metadata": {},
   "outputs": [],
   "source": [
    "def count_payment(pmt, interest_rate, amt):\n",
    "    n = 0\n",
    "    balance = amt\n",
    "    while balance > 0:\n",
    "        balance = round((balance * (1 + interest_rate)) - pmt, 2)\n",
    "        n += 1 \n",
    "        if balance < 0: \n",
    "            final_pmt = balance + pmt\n",
    "            balance = 0\n",
    "            \n",
    "    return n"
   ]
  },
  {
   "cell_type": "code",
   "execution_count": 4,
   "id": "23798f8b",
   "metadata": {
    "scrolled": false
   },
   "outputs": [
    {
     "name": "stdout",
     "output_type": "stream",
     "text": [
      "351 monthly payments of $850 would be required.\n",
      "312 monthly payments of $900 would be required.\n",
      "281 monthly payments of $950 would be required.\n",
      "256 monthly payments of $1000 would be required.\n",
      "236 monthly payments of $1050 would be required.\n"
     ]
    }
   ],
   "source": [
    "for i in range(850, 1100, 50):\n",
    "    print(f'{count_payment(i, 0.004, 160000)} monthly payments of ${i} would be required.')"
   ]
  },
  {
   "cell_type": "markdown",
   "id": "9dc14f96",
   "metadata": {},
   "source": [
    "## Problem 3: Minimum\n",
    "\n",
    "In this problem, we will write a function to find the smallest element of a list. We are, in a sense, re-inventing the wheel\n",
    "since the min() function already performs this exact task. However, the purpose this exercise is to have you think through the logic of how such a function would be implemented from scratch."
   ]
  },
  {
   "cell_type": "code",
   "execution_count": 5,
   "id": "05d5252a",
   "metadata": {},
   "outputs": [],
   "source": [
    "def minimum(x):\n",
    "    low_val1 = x[0]\n",
    "    for i in range(0, len(x)):\n",
    "        if x[i] < low_val1:\n",
    "            low_val1 = x[i] \n",
    "    return low_val1"
   ]
  },
  {
   "cell_type": "code",
   "execution_count": 6,
   "id": "bb3af450",
   "metadata": {
    "scrolled": true
   },
   "outputs": [
    {
     "name": "stdout",
     "output_type": "stream",
     "text": [
      "4.1, 3.4, Chicago\n"
     ]
    }
   ],
   "source": [
    "list1 = [9.8, 7.4, 5.6, 4.8, 4.8, 5.3, 4.1, 9.6, 5.4]\n",
    "list2 = [3.4, 7.6, 8.7, 7.5, 9.8, 7.5, 6.7, 8.7, 8.4]\n",
    "list3 = ['St. Louis', 'Kansas City', 'Chicago', 'Little Rock', 'Omaha']\n",
    "\n",
    "print(f'{minimum(list1)}, {minimum(list2)}, {minimum(list3)}')"
   ]
  },
  {
   "cell_type": "markdown",
   "id": "49e6b71e",
   "metadata": {},
   "source": [
    "## Problem 4: Argmin\n",
    "\n",
    "In this problem, we will write a function to find the index of the smallest element of a list. The logic in writing this function is very similar to that which was used in Problem 3, with a few modifications. "
   ]
  },
  {
   "cell_type": "code",
   "execution_count": 7,
   "id": "10b710a7",
   "metadata": {},
   "outputs": [],
   "source": [
    "def argmin(x):\n",
    "    low_val1 = x[0]\n",
    "    idx = 0\n",
    "    for i in range(0, len(x)):\n",
    "        if x[i] < low_val1:\n",
    "            low_val1 = x[i]\n",
    "            idx = i\n",
    "    return (idx)"
   ]
  },
  {
   "cell_type": "code",
   "execution_count": 8,
   "id": "8b2070f1",
   "metadata": {
    "scrolled": true
   },
   "outputs": [
    {
     "name": "stdout",
     "output_type": "stream",
     "text": [
      "6, 0, 2\n"
     ]
    }
   ],
   "source": [
    "print(f'{argmin(list1)}, {argmin(list2)}, {argmin(list3)}')"
   ]
  },
  {
   "cell_type": "markdown",
   "id": "3856f573",
   "metadata": {},
   "source": [
    "## Problem 5: Find Smallest Elements\n",
    "\n",
    "In this problem, we will write a function to find the smallest elements of a list."
   ]
  },
  {
   "cell_type": "code",
   "execution_count": 9,
   "id": "c9ef8fde",
   "metadata": {},
   "outputs": [],
   "source": [
    "def find_smallest(x, n = None):\n",
    "    y = sorted(x)\n",
    "    if n == None:\n",
    "        return y[0]\n",
    "    elif n > 0:\n",
    "        return y[:n]"
   ]
  },
  {
   "cell_type": "code",
   "execution_count": 10,
   "id": "fb572aa7",
   "metadata": {},
   "outputs": [
    {
     "name": "stdout",
     "output_type": "stream",
     "text": [
      "17\n",
      "[17]\n",
      "[17, 28]\n",
      "[17, 28, 28, 39, 53]\n",
      "[17, 28, 28, 39, 53, 54, 64, 74]\n"
     ]
    }
   ],
   "source": [
    "my_list = [39, 74, 28, 64, 17, 28, 54, 53]\n",
    "\n",
    "print(find_smallest(my_list))\n",
    "print(find_smallest(my_list, 1))\n",
    "print(find_smallest(my_list, 2))\n",
    "print(find_smallest(my_list, 5))\n",
    "print(find_smallest(my_list, 12))"
   ]
  },
  {
   "cell_type": "code",
   "execution_count": 11,
   "id": "e30d1f6a",
   "metadata": {},
   "outputs": [
    {
     "name": "stdout",
     "output_type": "stream",
     "text": [
      "[39, 74, 28, 64, 17, 28, 54, 53]\n"
     ]
    }
   ],
   "source": [
    "print(my_list)"
   ]
  },
  {
   "cell_type": "markdown",
   "id": "feaa1520",
   "metadata": {},
   "source": [
    "## Problem 6: Find Unique Elements\n",
    "\n",
    "In this problem, we will create a function named unique() that will identify the unique elements contained within a list.\n",
    "\n",
    "The function will return a list that contains the same values as the argument list, but with duplicate values removed, and sorted in ascending order. For example, if mylist = [4, 6, 3, 3, 9, 6, 4], then unique(mylist) should return\n",
    "[3, 4, 6, 9]."
   ]
  },
  {
   "cell_type": "code",
   "execution_count": 12,
   "id": "283c0e21",
   "metadata": {},
   "outputs": [],
   "source": [
    "def unique(x):\n",
    "    y = []\n",
    "    for i in x:\n",
    "        if i not in y:\n",
    "            y.append(i)\n",
    "    y.sort()\n",
    "    return y  "
   ]
  },
  {
   "cell_type": "code",
   "execution_count": 13,
   "id": "1d6a2249",
   "metadata": {
    "scrolled": true
   },
   "outputs": [
    {
     "name": "stdout",
     "output_type": "stream",
     "text": [
      "[12, 14, 16, 19, 23]\n",
      "['bat', 'cat', 'dog', 'frog']\n"
     ]
    }
   ],
   "source": [
    "int_list = [23, 16, 23, 12, 14, 23, 12, 19, 19]\n",
    "str_list = ['cat', 'dog', 'dog', 'cat', 'bat', 'frog', 'dog', 'frog']\n",
    "\n",
    "print(unique(int_list))\n",
    "print(unique(str_list))"
   ]
  },
  {
   "cell_type": "markdown",
   "id": "6b17afa0",
   "metadata": {},
   "source": [
    "## Problem 7: Frequency Distribution\n",
    "In this problem, we will create a function named freq_dist() that creates a frequency distribution based on the  elements of a list. The function will accept a list of values as its input and will return two lists. One returned list will contain the unique values found in the argument list, while the second list will contains counts of the number of times each of the unique values occurred. For example: If mylist = [10, 10, 20, 10, 20, 30, 20, 20, 30, 40], then freq_dist(mylist) should return the following tuple: ([10, 20, 30, 40], [3, 4, 2, 1])."
   ]
  },
  {
   "cell_type": "code",
   "execution_count": 14,
   "id": "65018e52",
   "metadata": {},
   "outputs": [],
   "source": [
    "def freq_dist(x):\n",
    "    counts = []\n",
    "    values = unique(x)\n",
    "    for i in values:\n",
    "        if i in x:\n",
    "            cnt = x.count(i)\n",
    "            counts.append(cnt)\n",
    "    return counts\n",
    "          "
   ]
  },
  {
   "cell_type": "code",
   "execution_count": 15,
   "id": "1ee75d9c",
   "metadata": {
    "scrolled": true
   },
   "outputs": [
    {
     "name": "stdout",
     "output_type": "stream",
     "text": [
      " Unique Values: ['A', 'B', 'C', 'D', 'F']\n",
      "Frequencies: [6, 8, 5, 5, 3]\n"
     ]
    }
   ],
   "source": [
    "grades = ['A', 'D', 'A', 'C', 'B', 'F', 'A', 'D', 'C', \n",
    " 'B', 'F', 'A', 'C', 'B', 'A', 'B', 'B', 'C', \n",
    " 'B', 'F', 'D', 'D', 'A', 'C', 'B', 'B', 'D']\n",
    "\n",
    "print(f' Unique Values: {unique(grades)}\\nFrequencies: {freq_dist(grades)}')"
   ]
  },
  {
   "cell_type": "markdown",
   "id": "9a85e941",
   "metadata": {},
   "source": [
    "## Problem 8: Weighted Means\n",
    "In this problem, we will create a function named mean() that can be used to calculate either standard means or weighted\n",
    "means. The function will have two parameters, x and w. The parameter x is expected to be a numerical list, and w is\n",
    "expected to be either a numerical list or to have the value None. If w=None, then the function should simply return the\n",
    "mean (or average) of the elements in x. If w is a list, then the function should return the weighted mean of the elements in x, using the elements of w as weights."
   ]
  },
  {
   "cell_type": "code",
   "execution_count": 16,
   "id": "626fcb89",
   "metadata": {},
   "outputs": [],
   "source": [
    "def mean(x, w = None):\n",
    "    if w == None:\n",
    "        y = 0 \n",
    "        y += sum(x)/ len(x)\n",
    "        return y\n",
    "    else:\n",
    "        z = 0\n",
    "        for i in range(0, len(w)):\n",
    "            z += (w[i]*x[i])\n",
    "            y = z/sum(w)\n",
    "        return y "
   ]
  },
  {
   "cell_type": "code",
   "execution_count": 17,
   "id": "f580b5c5",
   "metadata": {},
   "outputs": [
    {
     "name": "stdout",
     "output_type": "stream",
     "text": [
      "Standard Mean: 4.9\n",
      "Weighted Mean: 4.15\n"
     ]
    }
   ],
   "source": [
    "values = [4, 7, 3, 5, 2, 6, 8, 2, 4, 8]\n",
    "weights = [2, 1, 3, 1, 2, 3, 1, 4, 2, 1]\n",
    "print(f'Standard Mean: {mean(values)}\\nWeighted Mean: {mean(values, weights)}')"
   ]
  }
 ],
 "metadata": {
  "kernelspec": {
   "display_name": "Python 3 (ipykernel)",
   "language": "python",
   "name": "python3"
  },
  "language_info": {
   "codemirror_mode": {
    "name": "ipython",
    "version": 3
   },
   "file_extension": ".py",
   "mimetype": "text/x-python",
   "name": "python",
   "nbconvert_exporter": "python",
   "pygments_lexer": "ipython3",
   "version": "3.9.7"
  }
 },
 "nbformat": 4,
 "nbformat_minor": 5
}
