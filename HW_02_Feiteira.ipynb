{
 "cells": [
  {
   "cell_type": "markdown",
   "id": "ee21ee57",
   "metadata": {},
   "source": [
    "# COSC 130 - Homework 02\n",
    "\n",
    "## Cynthia Feiteira"
   ]
  },
  {
   "cell_type": "code",
   "execution_count": 1,
   "id": "4efac3e5",
   "metadata": {},
   "outputs": [],
   "source": [
    "Employees = ['Alex', 'Beth', 'Chad', 'Drew', 'Emma', 'Fred']\n",
    "Years = [5, 15, 2, 8, 4, 11]\n",
    "\n",
    "del Employees[0]\n",
    "\n",
    "del Employees[2]\n",
    "\n",
    "del Employees[1]\n",
    "\n",
    "del Employees[1]\n",
    "\n",
    "Employees.insert(2, 'Drew')\n",
    "\n",
    "Employees.insert(3, 'Alex')\n",
    "\n",
    "Employees.insert(4, 'Emma')\n",
    "\n",
    "Employees.insert(5, 'Chad')\n",
    "\n",
    "Years.remove(5)\n",
    "\n",
    "Years.remove(2)\n",
    "\n",
    "Years.remove(8)\n",
    "\n",
    "Years.remove(4)\n",
    "\n",
    "Years.append(8)\n",
    "\n",
    "Years.append(5)\n",
    "\n",
    "Years.append(4)\n",
    "\n",
    "Years.append(2)\n"
   ]
  },
  {
   "cell_type": "code",
   "execution_count": 2,
   "id": "2aaabfa4",
   "metadata": {},
   "outputs": [],
   "source": [
    "Employees.insert(1, 'Gina')\n",
    "\n",
    "Employees.insert(6, 'Herb')\n"
   ]
  },
  {
   "cell_type": "code",
   "execution_count": 3,
   "id": "1d87635e",
   "metadata": {},
   "outputs": [
    {
     "name": "stdout",
     "output_type": "stream",
     "text": [
      "['Beth', 'Gina', 'Drew', 'Alex', 'Herb', 'Chad']\n"
     ]
    }
   ],
   "source": [
    "del Employees[2]\n",
    "\n",
    "del Employees[4]\n",
    "print(Employees)\n"
   ]
  },
  {
   "cell_type": "code",
   "execution_count": 4,
   "id": "77c79f88",
   "metadata": {},
   "outputs": [
    {
     "name": "stdout",
     "output_type": "stream",
     "text": [
      "['Beth', 'Gina', 'Drew', 'Alex', 'Herb', 'Chad', 'Iris']\n"
     ]
    }
   ],
   "source": [
    "Employees.append('Iris')\n",
    "print(Employees)\n"
   ]
  },
  {
   "cell_type": "code",
   "execution_count": 5,
   "id": "35e80413",
   "metadata": {
    "scrolled": true
   },
   "outputs": [
    {
     "name": "stdout",
     "output_type": "stream",
     "text": [
      "[15, 11, 8, 5, 4, 2]\n"
     ]
    }
   ],
   "source": [
    "print(Years)"
   ]
  },
  {
   "cell_type": "code",
   "execution_count": 6,
   "id": "d516ee63",
   "metadata": {},
   "outputs": [],
   "source": [
    "Years.insert(1, 12)\n",
    "\n",
    "Years.insert(6, 3)"
   ]
  },
  {
   "cell_type": "code",
   "execution_count": 7,
   "id": "a87bbe45",
   "metadata": {
    "scrolled": true
   },
   "outputs": [
    {
     "name": "stdout",
     "output_type": "stream",
     "text": [
      "['Beth', 'Gina', 'Fred', 'Drew', 'Alex', 'Herb', 'Emma', 'Chad', 'Iris']\n",
      "[15, 12, 11, 8, 5, 4, 2]\n"
     ]
    }
   ],
   "source": [
    "Employees = ['Beth', 'Gina', 'Fred', 'Drew', 'Alex', 'Herb', 'Emma', 'Chad', 'Iris']\n",
    "print(Employees)\n",
    "Years = [15, 12, 11, 8, 5, 4, 2]\n",
    "print(Years)"
   ]
  },
  {
   "cell_type": "code",
   "execution_count": 8,
   "id": "de230d9d",
   "metadata": {},
   "outputs": [],
   "source": [
    "del Employees[2]\n",
    "Years.remove(11)"
   ]
  },
  {
   "cell_type": "code",
   "execution_count": 9,
   "id": "d6aaf388",
   "metadata": {},
   "outputs": [],
   "source": [
    "del Employees[5]\n",
    "Years.remove(4)"
   ]
  },
  {
   "cell_type": "code",
   "execution_count": 10,
   "id": "8ac37aef",
   "metadata": {
    "scrolled": true
   },
   "outputs": [
    {
     "name": "stdout",
     "output_type": "stream",
     "text": [
      "['Beth', 'Gina', 'Drew', 'Alex', 'Emma', 'Herb', 'Chad', 'Iris']\n",
      "[15, 12, 8, 5, 2]\n"
     ]
    }
   ],
   "source": [
    "Employees.insert(4, 'Emma')\n",
    "print(Employees)\n",
    "print(Years)\n"
   ]
  },
  {
   "cell_type": "code",
   "execution_count": 11,
   "id": "f15b9a2c",
   "metadata": {
    "scrolled": true
   },
   "outputs": [
    {
     "name": "stdout",
     "output_type": "stream",
     "text": [
      "['Beth', 'Gina', 'Drew', 'Alex', 'Herb', 'Chad', 'Iris']\n",
      "[15, 12, 8, 5, 3, 2, 0]\n"
     ]
    }
   ],
   "source": [
    "del Employees[4]\n",
    "Years.insert(4, 3)\n",
    "Years.append(0)\n",
    "print(Employees)\n",
    "print(Years)\n",
    "\n"
   ]
  },
  {
   "cell_type": "code",
   "execution_count": 12,
   "id": "628908e0",
   "metadata": {},
   "outputs": [
    {
     "name": "stdout",
     "output_type": "stream",
     "text": [
      "Beth\t15\n",
      "Gina\t12\n",
      "Drew\t8\n",
      "Alex\t6\n",
      "Emma\t5\n",
      "Herb\t3\n",
      "Chad\t2\n",
      "Iris\t0\n"
     ]
    }
   ],
   "source": [
    "Employees = [f'Beth\\t{15}', f'Gina\\t{12}', f'Drew\\t{8}', f'Alex\\t{6}', f'Emma\\t{5}', f'Herb\\t{3}', f'Chad\\t{2}', f'Iris\\t{0}']\n",
    "for workers in Employees:\n",
    "    print(workers)\n",
    "    \n",
    "# So i wanted to see this list of employees with their seniority and used the loop function along with Homework 01 solutions and applied it to the list  "
   ]
  },
  {
   "cell_type": "markdown",
   "id": "efd10cc3",
   "metadata": {},
   "source": [
    "## Problem 2: Sorting and Slicing Lists"
   ]
  },
  {
   "cell_type": "code",
   "execution_count": 13,
   "id": "964e74dd",
   "metadata": {},
   "outputs": [],
   "source": [
    "import random\n",
    "random.seed(12)\n",
    "random_list = random.sample(range(500), 99)"
   ]
  },
  {
   "cell_type": "code",
   "execution_count": 14,
   "id": "68ded4ad",
   "metadata": {
    "scrolled": false
   },
   "outputs": [
    {
     "name": "stdout",
     "output_type": "stream",
     "text": [
      "[242, 137, 336, 270, 341, 179, 73, 195, 5, 191, 247, 140, 329, 414, 235, 353, 442, 307, 116, 285, 0, 338, 319, 74, 225, 188, 83, 173, 463, 107, 30, 295, 419, 102, 38, 262, 351, 467, 172, 348, 207, 408, 431, 44, 9, 31, 462, 478, 260, 114, 46, 216, 227, 57, 452, 448, 69, 276, 160, 318, 480, 473, 356, 26, 284, 87, 259, 417, 42, 205, 311, 214, 342, 305, 240, 244, 429, 196, 277, 15, 328, 371, 457, 98, 403, 339, 133, 182, 185, 484, 197, 344, 158, 58, 129, 120, 171, 186, 190]\n",
      "99\n"
     ]
    }
   ],
   "source": [
    "print(random_list)\n",
    "print(len(random_list))"
   ]
  },
  {
   "cell_type": "code",
   "execution_count": 15,
   "id": "417d8185",
   "metadata": {
    "scrolled": true
   },
   "outputs": [
    {
     "name": "stdout",
     "output_type": "stream",
     "text": [
      "[242, 137, 336, 270, 341, 179, 73, 195, 5, 191]\n"
     ]
    }
   ],
   "source": [
    "print(random_list[:10])\n",
    "\n",
    "new_list = random_list[:10]\n"
   ]
  },
  {
   "cell_type": "code",
   "execution_count": 16,
   "id": "68f81d19",
   "metadata": {
    "scrolled": true
   },
   "outputs": [
    {
     "name": "stdout",
     "output_type": "stream",
     "text": [
      "Length of randon_list: 99\n",
      "First 10 Elements of random_list: [242, 137, 336, 270, 341, 179, 73, 195, 5, 191]\n"
     ]
    }
   ],
   "source": [
    "print(f'Length of randon_list:', len(random_list))\n",
    "print(f'First 10 Elements of random_list:', random_list[:10])"
   ]
  },
  {
   "cell_type": "code",
   "execution_count": 17,
   "id": "ef1f5de6",
   "metadata": {
    "scrolled": true
   },
   "outputs": [
    {
     "name": "stdout",
     "output_type": "stream",
     "text": [
      "The sum of the elements in random list is: 23739.\n"
     ]
    }
   ],
   "source": [
    "print(f'The sum of the elements in random list is: {sum(random_list)}.')"
   ]
  },
  {
   "cell_type": "code",
   "execution_count": 18,
   "id": "c43b4d13",
   "metadata": {
    "scrolled": true
   },
   "outputs": [
    {
     "name": "stdout",
     "output_type": "stream",
     "text": [
      "First 10 Elements of sorted_list: [0, 5, 9, 15, 26, 30, 31, 38, 42, 44]\n",
      "First 10 Elements of random_list: [242, 137, 336, 270, 341, 179, 73, 195, 5, 191]\n"
     ]
    }
   ],
   "source": [
    "random_list_asc = sorted(random_list)\n",
    "\n",
    "print(f'First 10 Elements of sorted_list:', random_list_asc[:10])\n",
    "print(f'First 10 Elements of random_list:' , random_list[:10])"
   ]
  },
  {
   "cell_type": "code",
   "execution_count": 19,
   "id": "6027ae42",
   "metadata": {
    "scrolled": true
   },
   "outputs": [
    {
     "name": "stdout",
     "output_type": "stream",
     "text": [
      "33\n",
      "33\n",
      "33\n",
      "The smallest element of bot_slice is 0.\n",
      "The largest element of bot_slice is 173.\n",
      "\n",
      "The smallest element of mid_slice is 179.\n",
      "The largest element of mid_slice is 311.\n",
      "\n",
      "The smallest element of top_slice is 318.\n",
      "The largest element of top_slice is 484.\n"
     ]
    }
   ],
   "source": [
    "bot_slice = sorted(random_list_asc[:33])\n",
    "mid_slice = sorted(random_list_asc[33:66])\n",
    "top_slice = sorted(random_list_asc[66:])\n",
    "print(len(bot_slice))\n",
    "print(len(mid_slice))\n",
    "print(len(top_slice))\n",
    "\n",
    "print(f'The smallest element of bot_slice is {bot_slice[0]}.\\nThe largest element of bot_slice is {bot_slice[32]}.\\n\\nThe smallest element of mid_slice is {mid_slice[0]}.\\nThe largest element of mid_slice is {mid_slice[32]}.\\n\\nThe smallest element of top_slice is {top_slice[0]}.\\nThe largest element of top_slice is {top_slice[32]}.')"
   ]
  },
  {
   "cell_type": "markdown",
   "id": "d195ccbc",
   "metadata": {},
   "source": [
    "## Problem 3: Magnitude of a Vector"
   ]
  },
  {
   "cell_type": "code",
   "execution_count": 20,
   "id": "08f1a42c",
   "metadata": {
    "scrolled": true
   },
   "outputs": [
    {
     "name": "stdout",
     "output_type": "stream",
     "text": [
      "20.2485\n"
     ]
    }
   ],
   "source": [
    "vector = [11, 6, -8, 4, -13, 2]\n",
    "mag_v = 0 \n",
    "for i in range(0, len(vector)):\n",
    "    mag_v += vector[i]**2\n",
    "    \n",
    "mag_v = mag_v**0.5\n",
    "\n",
    "print(round(mag_v, 4))"
   ]
  },
  {
   "cell_type": "code",
   "execution_count": 21,
   "id": "82d386b9",
   "metadata": {},
   "outputs": [
    {
     "name": "stdout",
     "output_type": "stream",
     "text": [
      "[0.5433, 0.2963, -0.3951, 0.1975, -0.642, 0.0988]\n"
     ]
    }
   ],
   "source": [
    "rounded_unit_vector = []\n",
    "unit_vector = []\n",
    "for i in range(0, len(vector)):\n",
    "    unit_vector.append(vector[i]/mag_v)\n",
    "    rounded_unit_vector.append(round(unit_vector[i], 4))\n",
    "    \n",
    "print(rounded_unit_vector)\n"
   ]
  },
  {
   "cell_type": "code",
   "execution_count": 22,
   "id": "16a5272a",
   "metadata": {},
   "outputs": [
    {
     "name": "stdout",
     "output_type": "stream",
     "text": [
      "1.0\n"
     ]
    }
   ],
   "source": [
    "mag_u = 0 \n",
    "for i in range(0, len(vector)):\n",
    "    mag_u += unit_vector[i]**2\n",
    "    \n",
    "mag_u = mag_u**0.5\n",
    "\n",
    "print(mag_u)"
   ]
  },
  {
   "cell_type": "markdown",
   "id": "badbaa1a",
   "metadata": {},
   "source": [
    "## Problem 4: Fibonacci Sequence"
   ]
  },
  {
   "cell_type": "code",
   "execution_count": 23,
   "id": "a4c9d5dc",
   "metadata": {
    "scrolled": true
   },
   "outputs": [
    {
     "name": "stdout",
     "output_type": "stream",
     "text": [
      "[0, 1, 1, 2, 3, 5, 8, 13, 21, 34, 55, 89, 144, 233, 377, 610, 987, 1597, 2584, 4181, 6765, 10946, 17711, 28657, 46368, 75025, 121393, 196418, 317811, 514229]\n"
     ]
    }
   ],
   "source": [
    "fib = [0,1]\n",
    "for i in range(2, 30):\n",
    "    nextfib = fib[i-1] + fib[i-2]\n",
    "    fib.append(nextfib)\n",
    "print(fib)\n"
   ]
  },
  {
   "cell_type": "markdown",
   "id": "3d5a96c2",
   "metadata": {},
   "source": [
    "## Problem 5: Printing a Table"
   ]
  },
  {
   "cell_type": "code",
   "execution_count": 24,
   "id": "e1d1f117",
   "metadata": {
    "scrolled": false
   },
   "outputs": [
    {
     "name": "stdout",
     "output_type": "stream",
     "text": [
      "First      Last       Major                Credits  GPA  \n",
      "--------------------------------------------------------\n",
      "Anna       Anderson   Mathematics          110      3.56 \n",
      "Beatrice   Brown      Data Science         83       3.24 \n",
      "Charles    Clark      Biology              64       3.87 \n",
      "David      Daniels    Chemistry            35       2.83 \n",
      "Emma       Edwards    Computer Science     104      3.61 \n"
     ]
    }
   ],
   "source": [
    "first = ['Anna', 'Beatrice', 'Charles', 'David', 'Emma']\n",
    "last = ['Anderson', 'Brown', 'Clark', 'Daniels', 'Edwards']\n",
    "major = ['Mathematics', 'Data Science', 'Biology', 'Chemistry', 'Computer Science']\n",
    "credits = [110, 83, 64, 35, 104]\n",
    "gpa = [3.56, 3.24, 3.87, 2.83, 3.61]\n",
    "\n",
    "print(f'{\"First\":<11}{\"Last\":<11}{\"Major\":<21}{\"Credits\":<9}{\"GPA\":<5}')\n",
    "print('--------------------------------------------------------')\n",
    "for i in range(0, len(first)):\n",
    "    print(f'{first[i]:<11}{last[i]:<11}{major[i]:<21}{credits[i]:<9}{gpa[i]:<5}')\n",
    "\n",
    "\n",
    "\n",
    "\n",
    "                    \n",
    "\n",
    "    \n",
    "    "
   ]
  },
  {
   "cell_type": "markdown",
   "id": "686fb233",
   "metadata": {},
   "source": [
    "## Problem 6: Calculating Sum of Squared Errors"
   ]
  },
  {
   "cell_type": "code",
   "execution_count": 25,
   "id": "267f0584",
   "metadata": {
    "scrolled": true
   },
   "outputs": [
    {
     "name": "stdout",
     "output_type": "stream",
     "text": [
      "[8.42, 8.24, 10.28, 7.58, 6.86, 8.06, 7.46, 9.98, 10.94, 10.94, 8.6, 9.08, 10.52, 7.04, 8.6, 7.94, 8.9, 11.48, 9.98, 10.34]\n"
     ]
    }
   ],
   "source": [
    "#𝑤𝑒𝑖𝑔ℎ𝑡=0.6∗𝑙𝑒𝑛𝑔𝑡ℎ−5.2\n",
    "length = [22.7, 22.4, 25.8, 21.3, 20.1, 22.1, 21.1, 25.3, 26.9, 26.9, 23.0, 23.8, 26.2, 20.4, 23.0, 21.9, 23.5, 27.8, 25.3, 25.9]\n",
    "weight = [9.2, 8.8, 10.7, 8.3, 6.2, 8.6, 7.2, 11.2, 10.5, 11.3, 9.6, 9.9, 10.9, 5.9, 9.5, 9.1, 9.7, 11.6, 10.2, 10.5]\n",
    "\n",
    "pred_weight = []\n",
    "for i in range(0, len(length)):\n",
    "    new_weight =  0.6 * length[i] - 5.2\n",
    "    pred_weight.append(round(new_weight, 2))\n",
    "print(pred_weight)"
   ]
  },
  {
   "cell_type": "code",
   "execution_count": 26,
   "id": "8cfde26b",
   "metadata": {
    "scrolled": true
   },
   "outputs": [
    {
     "name": "stdout",
     "output_type": "stream",
     "text": [
      "10.2236\n"
     ]
    }
   ],
   "source": [
    "#1. For each observation, calculate the difference between the true weight and the predicted weight.\n",
    "#2. Square this difference.\n",
    "#3. Sum the squared differences over all observations\n",
    "\n",
    "SSE = 0 \n",
    "for i in range(0, len(weight)):\n",
    "    SSE += ((weight[i] - pred_weight[i])**2)\n",
    "print(round(SSE, 4))\n",
    "\n"
   ]
  },
  {
   "cell_type": "markdown",
   "id": "7ee6e24e",
   "metadata": {},
   "source": [
    "## Problem 7: Determining Monthly Payments "
   ]
  },
  {
   "cell_type": "code",
   "execution_count": 27,
   "id": "88793760",
   "metadata": {},
   "outputs": [
    {
     "name": "stdout",
     "output_type": "stream",
     "text": [
      "A loan of $100000 would require monthly payments of $524.67.\n",
      "A loan of $110000 would require monthly payments of $577.13.\n",
      "A loan of $120000 would require monthly payments of $629.60.\n",
      "A loan of $130000 would require monthly payments of $682.06.\n",
      "A loan of $140000 would require monthly payments of $734.53.\n",
      "A loan of $150000 would require monthly payments of $787.00.\n",
      "A loan of $160000 would require monthly payments of $839.46.\n",
      "A loan of $170000 would require monthly payments of $891.93.\n",
      "A loan of $180000 would require monthly payments of $944.40.\n",
      "A loan of $190000 would require monthly payments of $996.86.\n"
     ]
    }
   ],
   "source": [
    "#Assume that you are considering purchasing a house and have been approved for\n",
    "#a 30-year loan with a 0.4% monthly interest rate. We will calculate the monthly\n",
    "#payment required for several different house prices between $100,000 and\n",
    "#$200,000. Specifically, we will consider a sequence of prices starting at\n",
    "#$100,000 and increasing in increments of $10,000 up to (and including) a price\n",
    "#of $200,000.\n",
    "\n",
    "i = 0.004\n",
    "n = 360\n",
    "start = 100000\n",
    "stop = 200000\n",
    "step = 10000\n",
    "PMT = 0\n",
    "for L in range(start, stop, step):\n",
    "    PMT = L/((1-(1+i)**-n)/i)\n",
    "    print(f'A loan of ${L} would require monthly payments of ${PMT:>.2f}.')\n"
   ]
  },
  {
   "cell_type": "markdown",
   "id": "f5ad598e",
   "metadata": {},
   "source": [
    "## Problem 8: Adding Matrices"
   ]
  },
  {
   "cell_type": "code",
   "execution_count": 28,
   "id": "7c6a75f3",
   "metadata": {},
   "outputs": [
    {
     "name": "stdout",
     "output_type": "stream",
     "text": [
      "[48, 72, 71, 43, 72]\n",
      "[65, 65, 65, 33, 44]\n",
      "[73, 68, 55, 41, 41]\n"
     ]
    }
   ],
   "source": [
    "𝐴 = [ [13, 43, 28, 22, 41 ], [17, 39, 46, 16, 21], [41, 34, 31, 25, 14] ]\n",
    "B = [ [35, 29 , 43, 21, 31], [48, 26, 19, 17, 23], [32, 34, 24, 16, 27] ]\n",
    "\n",
    "AplusB = []\n",
    "\n",
    "for i in range(0, 3):\n",
    "    tempRow = []\n",
    "    for j in range(0,5):\n",
    "        tempRow.append(A[i][j] + B[i][j])\n",
    "    AplusB.append(tempRow)\n",
    "    \n",
    "for row in AplusB:\n",
    "    print(row)"
   ]
  }
 ],
 "metadata": {
  "kernelspec": {
   "display_name": "Python 3 (ipykernel)",
   "language": "python",
   "name": "python3"
  },
  "language_info": {
   "codemirror_mode": {
    "name": "ipython",
    "version": 3
   },
   "file_extension": ".py",
   "mimetype": "text/x-python",
   "name": "python",
   "nbconvert_exporter": "python",
   "pygments_lexer": "ipython3",
   "version": "3.9.7"
  }
 },
 "nbformat": 4,
 "nbformat_minor": 5
}
