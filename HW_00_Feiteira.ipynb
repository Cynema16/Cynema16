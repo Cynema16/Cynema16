{
 "cells": [
  {
   "cell_type": "code",
   "execution_count": 1,
   "id": "30410ff3",
   "metadata": {
    "scrolled": true
   },
   "outputs": [
    {
     "name": "stdout",
     "output_type": "stream",
     "text": [
      "11\n"
     ]
    }
   ],
   "source": [
    "print(3 + 8)"
   ]
  },
  {
   "cell_type": "markdown",
   "id": "8ab5bab4",
   "metadata": {},
   "source": [
    "# COSC 130 - Homework 0\n",
    "\n",
    "**Cynthia Feiteira**"
   ]
  },
  {
   "cell_type": "markdown",
   "id": "d1f462be",
   "metadata": {},
   "source": [
    "## Part 1: Arithmetic Operations\n",
    "\n",
    "in this section of the assignment, we will demonstrate the following concepts: \n",
    "* Addition\n",
    "* Subtraction \n",
    "* Multiplication \n",
    "* Division \n",
    "* Exponentiation"
   ]
  },
  {
   "cell_type": "code",
   "execution_count": 2,
   "id": "1f4338b3",
   "metadata": {},
   "outputs": [
    {
     "name": "stdout",
     "output_type": "stream",
     "text": [
      "9\n"
     ]
    }
   ],
   "source": [
    "print(7 + 2)"
   ]
  },
  {
   "cell_type": "code",
   "execution_count": 3,
   "id": "12fa1a3f",
   "metadata": {},
   "outputs": [
    {
     "name": "stdout",
     "output_type": "stream",
     "text": [
      "5\n"
     ]
    }
   ],
   "source": [
    "print(7 - 2)"
   ]
  },
  {
   "cell_type": "code",
   "execution_count": 4,
   "id": "b17d50f7",
   "metadata": {},
   "outputs": [
    {
     "name": "stdout",
     "output_type": "stream",
     "text": [
      "14\n"
     ]
    }
   ],
   "source": [
    "print(7 * 2)"
   ]
  },
  {
   "cell_type": "code",
   "execution_count": 5,
   "id": "c153d3d4",
   "metadata": {},
   "outputs": [
    {
     "name": "stdout",
     "output_type": "stream",
     "text": [
      "3.5\n"
     ]
    }
   ],
   "source": [
    "print(7 / 2)"
   ]
  },
  {
   "cell_type": "code",
   "execution_count": 6,
   "id": "927bcd3c",
   "metadata": {},
   "outputs": [
    {
     "name": "stdout",
     "output_type": "stream",
     "text": [
      "49\n"
     ]
    }
   ],
   "source": [
    "print(7 ** 2)"
   ]
  },
  {
   "cell_type": "markdown",
   "id": "66975c55",
   "metadata": {},
   "source": [
    "## Part 2: Variables\n",
    "\n",
    "in this section of the assignment, we will demonstrate the following concepts: \n",
    "* Creating variables\n",
    "* Printing the value of variables\n",
    "* Operations with variables \n",
    "* nonlinear execution in notebooks "
   ]
  },
  {
   "cell_type": "code",
   "execution_count": 7,
   "id": "703132b8",
   "metadata": {},
   "outputs": [],
   "source": [
    "x = 91"
   ]
  },
  {
   "cell_type": "code",
   "execution_count": 8,
   "id": "b845fd90",
   "metadata": {},
   "outputs": [],
   "source": [
    "x = 42"
   ]
  },
  {
   "cell_type": "code",
   "execution_count": 9,
   "id": "e25a5db2",
   "metadata": {},
   "outputs": [
    {
     "name": "stdout",
     "output_type": "stream",
     "text": [
      "42\n"
     ]
    }
   ],
   "source": [
    "print(x)"
   ]
  },
  {
   "cell_type": "code",
   "execution_count": 10,
   "id": "766a726b",
   "metadata": {},
   "outputs": [],
   "source": [
    "y = 7"
   ]
  },
  {
   "cell_type": "code",
   "execution_count": 11,
   "id": "465e7ce2",
   "metadata": {},
   "outputs": [
    {
     "name": "stdout",
     "output_type": "stream",
     "text": [
      "7\n"
     ]
    }
   ],
   "source": [
    "print(y)"
   ]
  },
  {
   "cell_type": "code",
   "execution_count": 12,
   "id": "7d4eb014",
   "metadata": {},
   "outputs": [
    {
     "name": "stdout",
     "output_type": "stream",
     "text": [
      "6.0\n"
     ]
    }
   ],
   "source": [
    "print(x / y)"
   ]
  },
  {
   "cell_type": "markdown",
   "id": "8e5a2dc1",
   "metadata": {},
   "source": [
    "## Part 3: Comments\n",
    "\n",
    "In this section of the assignment, we will demonstrate the following concepts: \n",
    "\n",
    "* Writing comments\n",
    "* Using comments to document code \n",
    "* Using comments to disable lines of code "
   ]
  },
  {
   "cell_type": "code",
   "execution_count": 13,
   "id": "0816c4cf",
   "metadata": {},
   "outputs": [
    {
     "name": "stdout",
     "output_type": "stream",
     "text": [
      "7\n"
     ]
    }
   ],
   "source": [
    "# this is a comment\n",
    "print(2 + 5)"
   ]
  },
  {
   "cell_type": "code",
   "execution_count": 14,
   "id": "389d5b8b",
   "metadata": {},
   "outputs": [
    {
     "name": "stdout",
     "output_type": "stream",
     "text": [
      "2937.54\n"
     ]
    }
   ],
   "source": [
    "# in this cell, we will calculate sales revenue \n",
    "sales = 173           # Monthly widget sales \n",
    "price = 16.98         # Price per widget\n",
    "revenue = sales * price # Monthly revenue \n",
    "print(revenue)"
   ]
  },
  {
   "cell_type": "code",
   "execution_count": 15,
   "id": "d4bec50d",
   "metadata": {},
   "outputs": [
    {
     "name": "stdout",
     "output_type": "stream",
     "text": [
      "2.0\n",
      "3.0\n"
     ]
    }
   ],
   "source": [
    "print(12 / 6)\n",
    "# print(12 / 0)\n",
    "print(12 / 4) "
   ]
  },
  {
   "cell_type": "markdown",
   "id": "cd105653",
   "metadata": {},
   "source": [
    "## Part 4: Strings \n",
    "\n",
    "In this section of the assignment, we will demonstrate the following concepts: \n",
    "\n",
    "* Creating strings \n",
    "* Storing strings in variables \n",
    "* Printing multiple items "
   ]
  },
  {
   "cell_type": "code",
   "execution_count": 16,
   "id": "e9513218",
   "metadata": {},
   "outputs": [
    {
     "name": "stdout",
     "output_type": "stream",
     "text": [
      "Hello World!\n"
     ]
    }
   ],
   "source": [
    "print(\"Hello World!\")"
   ]
  },
  {
   "cell_type": "code",
   "execution_count": 17,
   "id": "c8c2d5c9",
   "metadata": {},
   "outputs": [
    {
     "name": "stdout",
     "output_type": "stream",
     "text": [
      "Cynthia Feiteira\n"
     ]
    }
   ],
   "source": [
    "name = \"Cynthia Feiteira\"\n",
    "print(name)"
   ]
  },
  {
   "cell_type": "code",
   "execution_count": 18,
   "id": "01e0cf8b",
   "metadata": {},
   "outputs": [
    {
     "name": "stdout",
     "output_type": "stream",
     "text": [
      "Hello, my name is Cynthia Feiteira .\n"
     ]
    }
   ],
   "source": [
    "print(\"Hello, my name is\", name, \".\")"
   ]
  },
  {
   "cell_type": "code",
   "execution_count": 19,
   "id": "7cf71782",
   "metadata": {},
   "outputs": [
    {
     "name": "stdout",
     "output_type": "stream",
     "text": [
      "Hello, my name is Cynthia Feiteira.\n"
     ]
    }
   ],
   "source": [
    "print(\"Hello, my name is \", name, \".\", sep=\"\")"
   ]
  }
 ],
 "metadata": {
  "kernelspec": {
   "display_name": "Python 3 (ipykernel)",
   "language": "python",
   "name": "python3"
  },
  "language_info": {
   "codemirror_mode": {
    "name": "ipython",
    "version": 3
   },
   "file_extension": ".py",
   "mimetype": "text/x-python",
   "name": "python",
   "nbconvert_exporter": "python",
   "pygments_lexer": "ipython3",
   "version": "3.9.7"
  }
 },
 "nbformat": 4,
 "nbformat_minor": 5
}
